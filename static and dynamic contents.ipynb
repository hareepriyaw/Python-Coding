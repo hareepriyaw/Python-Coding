{
 "cells": [
  {
   "cell_type": "code",
   "execution_count": null,
   "metadata": {},
   "outputs": [],
   "source": [
    "# creating web contents ==> static and dynamic contents \n",
    "# static contents uses static files stored in a folder\n",
    "# dynamic contents are generated programatically"
   ]
  },
  {
   "cell_type": "code",
   "execution_count": 3,
   "metadata": {},
   "outputs": [],
   "source": [
    "from flask import Flask  #  import Flask class from the package flask\n",
    "from flask import render_template, request  # import render_template to display static web page\n",
    "\n",
    "app = Flask(__name__)   # an instance of Flask class. Flask is web framework object. It creates an instance web application\n",
    "\n",
    "@app.route(\"/\")      # URL route to access the web content. / ==> default home page - root\n",
    "def hello_world():    # python method creating web contents\n",
    "    return \"<a href='http://127.0.0.1:5000/quickstart'>Quickstart</a>\"    # html text to be displayed on the browser\n",
    "\n",
    "@app.route(\"/quickstart\")      # URL route to access the web content. /quickstart ==> my quickstart page\n",
    "def my_quickstart():    # python method creating web contents\n",
    "    return \"<h1>This is my quick start page!</h1>\"    # html text to be displayed on the browser\n",
    "\n",
    "# display static web pages\n",
    "@app.route('/pythoncourse')\n",
    "def python_course():\n",
    "    print(\"Now accessing python course html\")\n",
    "    return render_template('python_course.html')\n",
    "\n",
    "# interacting with html web pages\n",
    "@app.route('/input',methods=['POST', 'GET'])  # There are two methods to transfer data from client browser to the web server\n",
    "def test():\n",
    "    if request.method == 'POST':  # if data is recieved from the form....\n",
    "         ht = int(request.form['height'])\n",
    "         age = int(request.form['age'])\n",
    "         print(ht,age)\n",
    "    return render_template('test.html')"
   ]
  },
  {
   "cell_type": "code",
   "execution_count": 4,
   "metadata": {},
   "outputs": [
    {
     "name": "stdout",
     "output_type": "stream",
     "text": [
      " * Serving Flask app \"__main__\" (lazy loading)\n",
      " * Environment: production\n",
      "   WARNING: This is a development server. Do not use it in a production deployment.\n",
      "   Use a production WSGI server instead.\n",
      " * Debug mode: off\n"
     ]
    },
    {
     "name": "stderr",
     "output_type": "stream",
     "text": [
      " * Running on http://127.0.0.1:5000/ (Press CTRL+C to quit)\n",
      "127.0.0.1 - - [19/Feb/2022 06:58:48] \"\u001b[37mGET / HTTP/1.1\u001b[0m\" 200 -\n",
      "127.0.0.1 - - [19/Feb/2022 06:59:01] \"\u001b[33mGET /test HTTP/1.1\u001b[0m\" 404 -\n",
      "127.0.0.1 - - [19/Feb/2022 06:59:21] \"\u001b[37mGET /input HTTP/1.1\u001b[0m\" 200 -\n",
      "127.0.0.1 - - [19/Feb/2022 06:59:34] \"\u001b[37mPOST /input HTTP/1.1\u001b[0m\" 200 -\n"
     ]
    },
    {
     "name": "stdout",
     "output_type": "stream",
     "text": [
      "675 65\n"
     ]
    },
    {
     "name": "stderr",
     "output_type": "stream",
     "text": [
      "127.0.0.1 - - [19/Feb/2022 06:59:59] \"\u001b[37mPOST /input HTTP/1.1\u001b[0m\" 200 -\n"
     ]
    },
    {
     "name": "stdout",
     "output_type": "stream",
     "text": [
      "87 12\n"
     ]
    }
   ],
   "source": [
    "app.run()"
   ]
  },
  {
   "cell_type": "code",
   "execution_count": null,
   "metadata": {},
   "outputs": [],
   "source": []
  }
 ],
 "metadata": {
  "kernelspec": {
   "display_name": "Python 3 (ipykernel)",
   "language": "python",
   "name": "python3"
  },
  "language_info": {
   "codemirror_mode": {
    "name": "ipython",
    "version": 3
   },
   "file_extension": ".py",
   "mimetype": "text/x-python",
   "name": "python",
   "nbconvert_exporter": "python",
   "pygments_lexer": "ipython3",
   "version": "3.9.12"
  }
 },
 "nbformat": 4,
 "nbformat_minor": 4
}
