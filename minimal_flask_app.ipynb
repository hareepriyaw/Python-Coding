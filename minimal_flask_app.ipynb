{
 "cells": [
  {
   "cell_type": "code",
   "execution_count": null,
   "metadata": {},
   "outputs": [],
   "source": [
    "# sample web application"
   ]
  },
  {
   "cell_type": "code",
   "execution_count": 2,
   "metadata": {},
   "outputs": [
    {
     "name": "stdout",
     "output_type": "stream",
     "text": [
      "Requirement already satisfied: flask in d:\\software\\anaconda\\lib\\site-packages (1.1.1)\n",
      "Requirement already satisfied: Jinja2>=2.10.1 in d:\\software\\anaconda\\lib\\site-packages (from flask) (2.11.1)\n",
      "Requirement already satisfied: Werkzeug>=0.15 in d:\\software\\anaconda\\lib\\site-packages (from flask) (1.0.0)\n",
      "Requirement already satisfied: itsdangerous>=0.24 in d:\\software\\anaconda\\lib\\site-packages (from flask) (1.1.0)\n",
      "Requirement already satisfied: click>=5.1 in d:\\software\\anaconda\\lib\\site-packages (from flask) (7.0)\n",
      "Requirement already satisfied: MarkupSafe>=0.23 in d:\\software\\anaconda\\lib\\site-packages (from Jinja2>=2.10.1->flask) (1.1.1)\n"
     ]
    }
   ],
   "source": [
    "!pip install flask  # install flask package from python package index (PyPi)"
   ]
  },
  {
   "cell_type": "code",
   "execution_count": 1,
   "metadata": {},
   "outputs": [],
   "source": [
    "from flask import Flask  #  import Flask class from the package flask\n",
    "\n",
    "app = Flask(__name__)   # an instance of Flask class. Flask is web framework object. It creates an instance web application\n",
    "\n",
    "@app.route(\"/\")      # URL route to access the web content. / ==> default home page - root\n",
    "def hello_world():    # python method creating web contents\n",
    "    return \"<a href='http://127.0.0.1:5000/quickstart'>Quickstart</a>\"    # html text to be displayed on the browser\n",
    "\n",
    "@app.route(\"/quickstart\")      # URL route to access the web content. /quickstart ==> my quickstart page\n",
    "def my_quickstart():    # python method creating web contents\n",
    "    return \"<h1>This is my quick start page!</h1>\"    # html text to be displayed on the browser"
   ]
  },
  {
   "cell_type": "code",
   "execution_count": 2,
   "metadata": {},
   "outputs": [
    {
     "name": "stdout",
     "output_type": "stream",
     "text": [
      " * Serving Flask app \"__main__\" (lazy loading)\n",
      " * Environment: production\n",
      "\u001b[31m   WARNING: This is a development server. Do not use it in a production deployment.\u001b[0m\n",
      "\u001b[2m   Use a production WSGI server instead.\u001b[0m\n",
      " * Debug mode: off\n"
     ]
    },
    {
     "name": "stderr",
     "output_type": "stream",
     "text": [
      " * Running on http://127.0.0.1:5000/ (Press CTRL+C to quit)\n",
      "127.0.0.1 - - [20/Jul/2022 07:38:35] \"GET / HTTP/1.1\" 200 -\n",
      "127.0.0.1 - - [20/Jul/2022 07:38:38] \"GET /favicon.ico HTTP/1.1\" 404 -\n",
      "127.0.0.1 - - [20/Jul/2022 07:38:58] \"GET /quickstart HTTP/1.1\" 200 -\n"
     ]
    }
   ],
   "source": [
    "app.run()  # start web application instance"
   ]
  },
  {
   "cell_type": "code",
   "execution_count": null,
   "metadata": {},
   "outputs": [],
   "source": []
  }
 ],
 "metadata": {
  "kernelspec": {
   "display_name": "Python 3 (ipykernel)",
   "language": "python",
   "name": "python3"
  },
  "language_info": {
   "codemirror_mode": {
    "name": "ipython",
    "version": 3
   },
   "file_extension": ".py",
   "mimetype": "text/x-python",
   "name": "python",
   "nbconvert_exporter": "python",
   "pygments_lexer": "ipython3",
   "version": "3.9.12"
  }
 },
 "nbformat": 4,
 "nbformat_minor": 4
}
