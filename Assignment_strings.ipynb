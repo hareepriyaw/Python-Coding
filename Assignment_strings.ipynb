{
 "cells": [
  {
   "cell_type": "code",
   "execution_count": 2,
   "id": "5184f7bb",
   "metadata": {},
   "outputs": [
    {
     "name": "stdout",
     "output_type": "stream",
     "text": [
      "I am a python    programmer\n",
      "I am a python programmer\n"
     ]
    }
   ],
   "source": [
    "st=\"I am a python    programmer\"\n",
    "print(st)\n",
    "st1=st.replace(\"    \",\" \")\n",
    "print(st1)"
   ]
  },
  {
   "cell_type": "code",
   "execution_count": 3,
   "id": "406d22b5",
   "metadata": {},
   "outputs": [
    {
     "name": "stdout",
     "output_type": "stream",
     "text": [
      "I am a python programmer\n"
     ]
    }
   ],
   "source": [
    "st=\"I am a python    programmer\"\n",
    "st1=st.split(\"   \")\n",
    "print(st1[0]+st1[1])"
   ]
  },
  {
   "cell_type": "code",
   "execution_count": 4,
   "id": "5a1b4393",
   "metadata": {},
   "outputs": [
    {
     "name": "stdout",
     "output_type": "stream",
     "text": [
      "I am a python    programmer\n",
      "  I am a python programmer\n"
     ]
    }
   ],
   "source": [
    "st=\"I am a python    programmer\"\n",
    "print(st)\n",
    "st1=st.split()\n",
    "st2=\" \"\n",
    "for x in st1:\n",
    "    st2+=\" \"+ x\n",
    "print(st2)"
   ]
  },
  {
   "cell_type": "code",
   "execution_count": 5,
   "id": "de7dd158",
   "metadata": {},
   "outputs": [
    {
     "name": "stdout",
     "output_type": "stream",
     "text": [
      "I am a python programmer\n"
     ]
    }
   ],
   "source": [
    "st=\"I am a python    programmer\"\n",
    "st1=st.split()\n",
    "st2=' '.join(st1)\n",
    "print(st2)"
   ]
  },
  {
   "cell_type": "code",
   "execution_count": 16,
   "id": "58da54e7",
   "metadata": {},
   "outputs": [
    {
     "name": "stdout",
     "output_type": "stream",
     "text": [
      "I am a python programmer 1 2 3\n"
     ]
    }
   ],
   "source": [
    "st=\"I am a python    programmer 1 2 3\"\n",
    "st1=st.split()\n",
    "st2=' '.join(map(str,st1))\n",
    "print(st2)"
   ]
  },
  {
   "cell_type": "code",
   "execution_count": null,
   "id": "1aa27d79",
   "metadata": {},
   "outputs": [],
   "source": [
    "st=\"xxxI am a python programmerxxx\"\n",
    "st1=st.strip(\"xxx\")\n",
    "print(st1)"
   ]
  },
  {
   "cell_type": "code",
   "execution_count": 6,
   "id": "d1800225",
   "metadata": {},
   "outputs": [
    {
     "name": "stdout",
     "output_type": "stream",
     "text": [
      "I am a python programmer\n"
     ]
    }
   ],
   "source": [
    "st=\"xxxI am a pythonxxxprogrammerxxx\"\n",
    "st1=st.strip(\"xxx\")\n",
    "st2=st1.replace(\"xxx\", \" \")\n",
    "print(st2)"
   ]
  },
  {
   "cell_type": "code",
   "execution_count": 8,
   "id": "0ac183e9",
   "metadata": {},
   "outputs": [
    {
     "name": "stdout",
     "output_type": "stream",
     "text": [
      "I am a pythonxxxprogrammerxxx\n"
     ]
    }
   ],
   "source": [
    "st=\"xxxI am a pythonxxxprogrammerxxx\"\n",
    "st1=st.lstrip(\"xxx\")\n",
    "print(st1)"
   ]
  },
  {
   "cell_type": "code",
   "execution_count": 15,
   "id": "de995fbb",
   "metadata": {},
   "outputs": [
    {
     "name": "stdout",
     "output_type": "stream",
     "text": [
      "I am a pythonxxxprogrammer\n",
      " I am a python programmer\n"
     ]
    }
   ],
   "source": [
    "st=\"xxxI am a pythonxxxprogrammerxxx\"\n",
    "st1=st.rstrip(\"xxx\")\n",
    "print(st1.lstrip(\"xxx\"))\n",
    "print(st1.replace(\"xxx\",\" \"))"
   ]
  },
  {
   "cell_type": "code",
   "execution_count": 19,
   "id": "bf924911",
   "metadata": {},
   "outputs": [
    {
     "data": {
      "text/plain": [
       "-1"
      ]
     },
     "execution_count": 19,
     "metadata": {},
     "output_type": "execute_result"
    }
   ],
   "source": []
  },
  {
   "cell_type": "code",
   "execution_count": null,
   "id": "264cf1f0",
   "metadata": {},
   "outputs": [],
   "source": []
  }
 ],
 "metadata": {
  "kernelspec": {
   "display_name": "Python 3 (ipykernel)",
   "language": "python",
   "name": "python3"
  },
  "language_info": {
   "codemirror_mode": {
    "name": "ipython",
    "version": 3
   },
   "file_extension": ".py",
   "mimetype": "text/x-python",
   "name": "python",
   "nbconvert_exporter": "python",
   "pygments_lexer": "ipython3",
   "version": "3.9.12"
  }
 },
 "nbformat": 4,
 "nbformat_minor": 5
}
