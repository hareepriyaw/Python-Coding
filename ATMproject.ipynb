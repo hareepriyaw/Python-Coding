{
 "cells": [
  {
   "cell_type": "code",
   "execution_count": 7,
   "id": "56476dfe",
   "metadata": {},
   "outputs": [],
   "source": [
    "#limit_of_withdrawal=1000"
   ]
  },
  {
   "cell_type": "code",
   "execution_count": 8,
   "id": "e0620eb2",
   "metadata": {},
   "outputs": [
    {
     "name": "stdout",
     "output_type": "stream",
     "text": [
      "enter the amount:500\n"
     ]
    }
   ],
   "source": [
    "#money = input(\"enter the amount:\")"
   ]
  },
  {
   "cell_type": "code",
   "execution_count": 9,
   "id": "b1e9e56f",
   "metadata": {},
   "outputs": [],
   "source": [
    "#money1 = int(money)"
   ]
  },
  {
   "cell_type": "code",
   "execution_count": 10,
   "id": "0f1e71f6",
   "metadata": {},
   "outputs": [
    {
     "name": "stdout",
     "output_type": "stream",
     "text": [
      "go ahead and withdraw\n",
      "end of the testing\n"
     ]
    }
   ],
   "source": [
    "\"\"\"\n",
    "if money1<limit_of_withdrawal:\n",
    "    print(\"go ahead and withdraw\")\n",
    "else:\n",
    "    print(\"amount exceeds the limit..\")\n",
    "print(\"end of the testing\")\n",
    "\"\"\""
   ]
  },
  {
   "cell_type": "code",
   "execution_count": null,
   "id": "63abadeb",
   "metadata": {},
   "outputs": [],
   "source": [
    "#ATM program - This involves checking of 5 bank accounts with the card and the account number. If the bank account is correct, then further withdrawal or deposit is carried out.\n"
   ]
  },
  {
   "cell_type": "code",
   "execution_count": 42,
   "id": "ac902a1d",
   "metadata": {},
   "outputs": [
    {
     "name": "stdout",
     "output_type": "stream",
     "text": [
      "enter the card number:7654\n"
     ]
    },
    {
     "ename": "TypeError",
     "evalue": "bnk_acct() takes 1 positional argument but 2 were given",
     "output_type": "error",
     "traceback": [
      "\u001b[1;31m---------------------------------------------------------------------------\u001b[0m",
      "\u001b[1;31mTypeError\u001b[0m                                 Traceback (most recent call last)",
      "Input \u001b[1;32mIn [42]\u001b[0m, in \u001b[0;36m<cell line: 1>\u001b[1;34m()\u001b[0m\n\u001b[1;32m----> 1\u001b[0m \u001b[38;5;28;01mclass\u001b[39;00m \u001b[38;5;21;01mATM\u001b[39;00m:\n\u001b[0;32m      2\u001b[0m     act_n\u001b[38;5;241m=\u001b[39m\u001b[38;5;28mlist\u001b[39m[\u001b[38;5;241m1000\u001b[39m,\u001b[38;5;241m1001\u001b[39m,\u001b[38;5;241m1002\u001b[39m,\u001b[38;5;241m1003\u001b[39m,\u001b[38;5;241m1004\u001b[39m]\n\u001b[0;32m      3\u001b[0m     withdrawal_limit\u001b[38;5;241m=\u001b[39m\u001b[38;5;241m1000\u001b[39m\n",
      "Input \u001b[1;32mIn [42]\u001b[0m, in \u001b[0;36mATM\u001b[1;34m()\u001b[0m\n\u001b[0;32m     90\u001b[0m     \u001b[38;5;28;01mraise\u001b[39;00m\n\u001b[0;32m     92\u001b[0m execu\u001b[38;5;241m=\u001b[39mATM()\n\u001b[1;32m---> 93\u001b[0m \u001b[43mexecu\u001b[49m\u001b[38;5;241;43m.\u001b[39;49m\u001b[43mbnk_acct\u001b[49m\u001b[43m(\u001b[49m\u001b[38;5;241;43m1002\u001b[39;49m\u001b[43m)\u001b[49m\n",
      "\u001b[1;31mTypeError\u001b[0m: bnk_acct() takes 1 positional argument but 2 were given"
     ]
    }
   ],
   "source": [
    "class ATM:\n",
    "    act_n=list[1000,1001,1002,1003,1004]\n",
    "    withdrawal_limit=1000\n",
    "    card_list=list[9876,8765,7654,6543,5432]\n",
    "    acct_det = {'1000':{'name':'krishna', 'account_bal':3000, 'card_NO':9876, 'Place':'Tirupati'},\n",
    "        '1001':{'name':'krishna', 'account_bal': 5000, 'card_NO':8765, 'Place':'Nellore'},\n",
    "        '1002':{'name':'krishna', 'account_bal': 7000, 'card_NO':7654, 'Place':'Madanapalli'},\n",
    "        '1003':{'name':'krishna', 'account_bal': 2000, 'card_NO':6543, 'Place':'Chittoor'},\n",
    "        '1004':{'name':'krishna', 'account_bal': 6000, 'card_NO':5432, 'Place':'Hyderabad'}}\n",
    "      \n",
    "    \n",
    "    x=acct_det.get('1000')\n",
    "    x2=x.get('account_bal')\n",
    "    y=acct_det.get('1001')\n",
    "    y2=y.get('account_bal')\n",
    "    z=acct_det.get('1002')\n",
    "    z2=y.get('account_bal')\n",
    "    k=acct_det.get('1003')\n",
    "    k2=y.get('account_bal')\n",
    "    l=acct_det.get('1004')\n",
    "    l2=y.get('account_bal')         \n",
    "    card_num =int(input(\"enter the card number:\"))   \n",
    "    try:\n",
    "    \n",
    "        def bnk_acct(acct_num):\n",
    "            for acct_num in act_n:\n",
    "                print (acct_det.get('acct_num'))\n",
    "                break\n",
    "    \n",
    "        def check_card_WD(card_num):\n",
    "            for card_num in card_list:\n",
    "           \n",
    "                WDL=int(input(\"enter the withdrawal amount:\"))\n",
    "           \n",
    "                if WDL<x2:\n",
    "                    print('your withdrawal is processed...')\n",
    "                    print('your available balance is:', x2-1000)\n",
    "                    continue\n",
    "                elif WDL<y2:\n",
    "                        print('your withdrawal is processed...')\n",
    "                        print('your available balance is:', y2-1000)\n",
    "                        continue\n",
    "                elif WDL<z2:\n",
    "                        print('your withdrawal is processed...')\n",
    "                        print('your available balance is:', z2-1000)\n",
    "                        continue\n",
    "                elif WDL<k2:\n",
    "                        print('your withdrawal is processed...')\n",
    "                        print('your available balance is:', k2-1000)\n",
    "                        continue\n",
    "                elif WDL<l2:\n",
    "                        print('your withdrawal is processed...')\n",
    "                        print('your available balance is:', l2-1000)\n",
    "                        continue\n",
    "                else:\n",
    "                        print('amount exceeds withdrawal limit')\n",
    "                        Break\n",
    "            \n",
    "        def check_card_D(card_num): \n",
    "\n",
    "            x3=x.get('card_NO')\n",
    "            y3=x.get('card_NO')\n",
    "            z3=x.get('card_NO')\n",
    "            k3=x.get('card_NO')\n",
    "            l3=x.get('card_NO')\n",
    "            \n",
    "            for card_num in card_list:\n",
    "                    \n",
    "                dep=int(input(\"enter the amount to be deposited:\"))\n",
    "\n",
    "                if card_num==x3:\n",
    "                    print(\"your current balance is:\", x2)\n",
    "                    continue\n",
    "                elif card_num==y3:\n",
    "                    print(\"your current balance is:\", y2)\n",
    "                    continue\n",
    "                elif card_num==z3:\n",
    "                    print(\"your current balance is:\", z2)\n",
    "                    continue\n",
    "                elif card_num==k3:\n",
    "                    print(\"your current balance is:\", k2)\n",
    "                    continue\n",
    "                elif card_num==l3:\n",
    "                    print(\"your current balance is:\", l2)\n",
    "                    continue\n",
    "                else:\n",
    "                    print(\"no account found\")\n",
    "                    break\n",
    "    except:\n",
    "        raise\n",
    "        \n",
    "    execu=ATM()\n",
    "    execu.bnk_acct(1002)"
   ]
  },
  {
   "cell_type": "code",
   "execution_count": null,
   "id": "4545b1e9",
   "metadata": {},
   "outputs": [],
   "source": []
  },
  {
   "cell_type": "code",
   "execution_count": null,
   "id": "0b8c4044",
   "metadata": {},
   "outputs": [],
   "source": []
  },
  {
   "cell_type": "code",
   "execution_count": null,
   "id": "202a125a",
   "metadata": {},
   "outputs": [],
   "source": []
  }
 ],
 "metadata": {
  "kernelspec": {
   "display_name": "Python 3 (ipykernel)",
   "language": "python",
   "name": "python3"
  },
  "language_info": {
   "codemirror_mode": {
    "name": "ipython",
    "version": 3
   },
   "file_extension": ".py",
   "mimetype": "text/x-python",
   "name": "python",
   "nbconvert_exporter": "python",
   "pygments_lexer": "ipython3",
   "version": "3.9.12"
  }
 },
 "nbformat": 4,
 "nbformat_minor": 5
}
