{
 "cells": [
  {
   "cell_type": "code",
   "execution_count": 21,
   "id": "26b45cff",
   "metadata": {},
   "outputs": [],
   "source": [
    "#out_file=open(\"BullseyeCoverageError.txt\", 'r')"
   ]
  },
  {
   "cell_type": "code",
   "execution_count": 22,
   "id": "3e090163",
   "metadata": {},
   "outputs": [
    {
     "name": "stdout",
     "output_type": "stream",
     "text": [
      "BullseyeCoverage 8.17.5 error 15: Cannot find C:\\WINDOWS\\system32/test.cov, errno=2 \"The system cannot find the file specified. \". COVFILE is not set\n",
      "\n",
      "\n"
     ]
    }
   ],
   "source": [
    "#put_file=out_file.read()\n",
    "#print(put_file)"
   ]
  },
  {
   "cell_type": "code",
   "execution_count": 26,
   "id": "592518f9",
   "metadata": {},
   "outputs": [
    {
     "name": "stdout",
     "output_type": "stream",
     "text": [
      "43\n"
     ]
    }
   ],
   "source": [
    "out_file=open(\"my_file.txt\", 'w')\n",
    "text=\"this is my test program writing into a file\"\n",
    "put_file=out_file.write(text)\n",
    "print(put_file)\n",
    "out_file.close()"
   ]
  },
  {
   "cell_type": "code",
   "execution_count": 3,
   "id": "2e5ffd06",
   "metadata": {},
   "outputs": [
    {
     "name": "stdout",
     "output_type": "stream",
     "text": [
      "[1, 1, 9, 25, 36, 64, 81, 100]\n"
     ]
    }
   ],
   "source": [
    "lis=[1,1,3,5,6,8,9,10]\n",
    "my_lis=[n*n for n in lis]\n",
    "print(my_lis)\n"
   ]
  },
  {
   "cell_type": "code",
   "execution_count": 282,
   "id": "fa1c9914",
   "metadata": {},
   "outputs": [
    {
     "name": "stdout",
     "output_type": "stream",
     "text": [
      "[100, 60, 51, 34, 29, 9, 5, 1] 6\n"
     ]
    }
   ],
   "source": [
    "lis=[60,34,100,29,51,1,5,9]\n",
    "#my_lis=[n for n in lis if n%2==0]\n",
    "#print(my_lis)\n",
    "#lis.remove(6)\n",
    "#lis.pop(3)\n",
    "s=lis.index(5)\n",
    "#lis.reverse()\n",
    "lis.sort(reverse=True)\n",
    "print(lis, s)"
   ]
  },
  {
   "cell_type": "code",
   "execution_count": 286,
   "id": "ac437b15",
   "metadata": {},
   "outputs": [
    {
     "name": "stdout",
     "output_type": "stream",
     "text": [
      "<filter object at 0x0000019B05721460>\n",
      "['apple', 'banana', 'banana', 'grape', 'kiwi', 'orange', 'pear']\n",
      "['apple', 'banana', 'banana', 'grape', 'kiwi', 'orange', 'pear']\n"
     ]
    }
   ],
   "source": [
    "\n",
    "letss=(\"haripriya munipalli\")\n",
    "my_tup=filter(lambda vow: vow in set_sam, letss)\n",
    "print(my_tup)\n",
    "\n",
    "lis1=['apple', 'apple', 'banana', 'banana', 'grape', 'kiwi', 'orange', 'pear']\n",
    "lis1.pop(1)\n",
    "print(lis1)\n",
    "lis2=lis1.copy()\n",
    "print(lis2)"
   ]
  },
  {
   "cell_type": "code",
   "execution_count": 255,
   "id": "fbf6a57f",
   "metadata": {},
   "outputs": [
    {
     "name": "stdout",
     "output_type": "stream",
     "text": [
      "False\n",
      "True\n",
      "False\n",
      "True\n",
      "False\n",
      "False\n",
      "True\n",
      "False\n",
      "True\n"
     ]
    }
   ],
   "source": [
    "set_sam={\"a\", \"e\", \"i\", \"o\",\"u\"}\n",
    "lett=[\"h\",\"a\",\"r\",\"i\",\"p\",\"r\",\"i\",\"y\",\"a\"]\n",
    "\n",
    "def vow(b):\n",
    "    if b in set_sam:\n",
    "        return True\n",
    "    else:\n",
    "        return False\n",
    "    \n",
    "my_res=map(vow, lett)\n",
    "\n",
    "for s in my_res:\n",
    "    print(s)\n"
   ]
  },
  {
   "cell_type": "code",
   "execution_count": 114,
   "id": "fe44d3e3",
   "metadata": {},
   "outputs": [
    {
     "data": {
      "text/plain": [
       "'HARIPRIYA            MUNIPALLI \\n JAHNAVI   ABHI'"
      ]
     },
     "execution_count": 114,
     "metadata": {},
     "output_type": "execute_result"
    }
   ],
   "source": [
    " strr=\"HARIPRIYA \\t MUNIPALLI \\n JAHNAVI \\t ABHI\"\n",
    "#strr.capitalize()\n",
    "#strr.title()\n",
    "#strr.casefold().count(\"p\")\n",
    "strr.expandtabs(10)\n"
   ]
  },
  {
   "cell_type": "code",
   "execution_count": 96,
   "id": "3108f657",
   "metadata": {},
   "outputs": [
    {
     "name": "stdout",
     "output_type": "stream",
     "text": [
      "b'HARIPRIYA MUNIPALLI JAHNAVI ABHI'\n"
     ]
    }
   ],
   "source": [
    "res=strr.encode(encoding=\"utf-8\", errors=\"strict\")\n",
    "print(res)\n"
   ]
  },
  {
   "cell_type": "code",
   "execution_count": 140,
   "id": "010ac44f",
   "metadata": {},
   "outputs": [
    {
     "name": "stdout",
     "output_type": "stream",
     "text": [
      "h\n",
      "a\n",
      "r\n",
      "i\n"
     ]
    }
   ],
   "source": [
    "st=\"hari\"\n",
    "n=''\n",
    "for n in st:\n",
    "    if n.casefold() =='b':\n",
    "        print(\"found it\")\n",
    "    else:\n",
    "         print(n)   \n",
    "    "
   ]
  },
  {
   "cell_type": "code",
   "execution_count": 115,
   "id": "8e2e9100",
   "metadata": {},
   "outputs": [
    {
     "name": "stdout",
     "output_type": "stream",
     "text": [
      "HARIPRIYA \t MUNIPALLI \n",
      " JAHNAVI \t ABHI\n"
     ]
    }
   ],
   "source": [
    "#strr.expandtabs(2)\n",
    "print(strr)"
   ]
  },
  {
   "cell_type": "code",
   "execution_count": 19,
   "id": "811531aa",
   "metadata": {},
   "outputs": [
    {
     "name": "stdout",
     "output_type": "stream",
     "text": [
      "None\n"
     ]
    },
    {
     "data": {
      "text/plain": [
       "False"
      ]
     },
     "execution_count": 19,
     "metadata": {},
     "output_type": "execute_result"
    }
   ],
   "source": [
    "lis=[12,34,56,67,100]\n",
    "lis1=lis.sort()\n",
    "print(lis1)\n",
    "strr=\"HARIPRIYA \\t MUNIPALLI \\n JAHNAVI \\t ABHI\"\n",
    "strr.center(50,\"A\")\n",
    "strr.endswith(\"abhi\")"
   ]
  },
  {
   "cell_type": "code",
   "execution_count": 14,
   "id": "6bbf7d0a",
   "metadata": {},
   "outputs": [
    {
     "data": {
      "text/plain": [
       "True"
      ]
     },
     "execution_count": 14,
     "metadata": {},
     "output_type": "execute_result"
    }
   ],
   "source": [
    "\"muni\" in \"haripriyamunipalli\""
   ]
  },
  {
   "cell_type": "code",
   "execution_count": 131,
   "id": "914bf2f7",
   "metadata": {},
   "outputs": [
    {
     "name": "stdout",
     "output_type": "stream",
     "text": [
      "the sum of 1+2 is 3.00\n"
     ]
    }
   ],
   "source": [
    "print(\"the sum of 1+2 is {0:.2f}\".format(1+2))"
   ]
  },
  {
   "cell_type": "code",
   "execution_count": 143,
   "id": "01557f1c",
   "metadata": {},
   "outputs": [
    {
     "ename": "ValueError",
     "evalue": "substring not found",
     "output_type": "error",
     "traceback": [
      "\u001b[1;31m---------------------------------------------------------------------------\u001b[0m",
      "\u001b[1;31mValueError\u001b[0m                                Traceback (most recent call last)",
      "Input \u001b[1;32mIn [143]\u001b[0m, in \u001b[0;36m<cell line: 1>\u001b[1;34m()\u001b[0m\n\u001b[1;32m----> 1\u001b[0m res\u001b[38;5;241m=\u001b[39m\u001b[43mstrr\u001b[49m\u001b[38;5;241;43m.\u001b[39;49m\u001b[43mindex\u001b[49m\u001b[43m(\u001b[49m\u001b[38;5;124;43m\"\u001b[39;49m\u001b[38;5;124;43mxxx\u001b[39;49m\u001b[38;5;124;43m\"\u001b[39;49m\u001b[43m)\u001b[49m\n\u001b[0;32m      2\u001b[0m \u001b[38;5;28mprint\u001b[39m(res)\n",
      "\u001b[1;31mValueError\u001b[0m: substring not found"
     ]
    }
   ],
   "source": [
    "res=strr.index(\"xxx\")\n",
    "print(res)"
   ]
  },
  {
   "cell_type": "code",
   "execution_count": 153,
   "id": "8cad775d",
   "metadata": {},
   "outputs": [
    {
     "data": {
      "text/plain": [
       "False"
      ]
     },
     "execution_count": 153,
     "metadata": {},
     "output_type": "execute_result"
    }
   ],
   "source": [
    "\"today is a friday\".isalnum()\n",
    "\"123456o\".isalnum()\n",
    "\"todayisafriday\".isalpha()\n",
    "\"123456.89\".isdigit()"
   ]
  },
  {
   "cell_type": "code",
   "execution_count": 197,
   "id": "7e4373a4",
   "metadata": {},
   "outputs": [
    {
     "data": {
      "text/plain": [
       "True"
      ]
     },
     "execution_count": 197,
     "metadata": {},
     "output_type": "execute_result"
    }
   ],
   "source": [
    "#\"134567\".isdigit()\n",
    "\"give\".isidentifier()\n",
    "\n",
    "\"today is a friday\".isnumeric()\n",
    "\"today is a friday\".islower()\n",
    "\" \".isspace()\n",
    "\"FRIDAY\".isupper()"
   ]
  },
  {
   "cell_type": "code",
   "execution_count": 204,
   "id": "2ce4ca93",
   "metadata": {},
   "outputs": [
    {
     "data": {
      "text/plain": [
       "'this is my python sample'"
      ]
     },
     "execution_count": 204,
     "metadata": {},
     "output_type": "execute_result"
    }
   ],
   "source": [
    "from keyword import iskeyword\n",
    "iskeyword('lambda') \n",
    "\"***\".isprintable()\n",
    "lis='this is my python      sample'\n",
    "lis1=lis.split()\n",
    "' '.join(lis1)\n"
   ]
  },
  {
   "cell_type": "code",
   "execution_count": 213,
   "id": "cb0eb733",
   "metadata": {},
   "outputs": [
    {
     "data": {
      "text/plain": [
       "'this is my python      sample*********************'"
      ]
     },
     "execution_count": 213,
     "metadata": {},
     "output_type": "execute_result"
    }
   ],
   "source": [
    "lis.ljust(50,\"*\")"
   ]
  },
  {
   "cell_type": "code",
   "execution_count": 215,
   "id": "9b642e29",
   "metadata": {},
   "outputs": [
    {
     "name": "stdout",
     "output_type": "stream",
     "text": [
      "haripriya \t munipalli \n",
      " jahnavi \t abhi\n"
     ]
    }
   ],
   "source": [
    "print(strr.lower())"
   ]
  },
  {
   "cell_type": "code",
   "execution_count": 220,
   "id": "9f462cf5",
   "metadata": {},
   "outputs": [
    {
     "name": "stdout",
     "output_type": "stream",
     "text": [
      "HARIPRIYA                      MUNIPALLI \n",
      " JAHNAVI                       ABHI\n"
     ]
    }
   ],
   "source": [
    "ss=strr.expandtabs(30)\n",
    "\n",
    "print(ss)"
   ]
  },
  {
   "cell_type": "code",
   "execution_count": 224,
   "id": "9b98db96",
   "metadata": {},
   "outputs": [
    {
     "data": {
      "text/plain": [
       "'HARIPRIYA            MUNIPALLI           JAHNAVI   ABHI'"
      ]
     },
     "execution_count": 224,
     "metadata": {},
     "output_type": "execute_result"
    }
   ],
   "source": [
    "strr.translate({ord('\\n'):'\\t'}).expandtabs(10)"
   ]
  },
  {
   "cell_type": "code",
   "execution_count": 311,
   "id": "9f6a43de",
   "metadata": {},
   "outputs": [
    {
     "data": {
      "text/plain": [
       "{112: '', 113: '', 114: ''}"
      ]
     },
     "execution_count": 311,
     "metadata": {},
     "output_type": "execute_result"
    }
   ],
   "source": [
    "ss=\"this is my python practice programming\"\n",
    "dict={'p':\"\", 'q':\"\", 'r':\"\",}\n",
    "ss.maketrans(dict)"
   ]
  },
  {
   "cell_type": "code",
   "execution_count": 21,
   "id": "61849227",
   "metadata": {},
   "outputs": [
    {
     "data": {
      "text/plain": [
       "{114: 100, 116: None}"
      ]
     },
     "execution_count": 21,
     "metadata": {},
     "output_type": "execute_result"
    }
   ],
   "source": [
    "ss.maketrans(\"rr\",\"dd\", \"tt\")"
   ]
  },
  {
   "cell_type": "code",
   "execution_count": 1,
   "id": "4798e7ae",
   "metadata": {},
   "outputs": [
    {
     "data": {
      "text/plain": [
       "('this is my python ', 'pra', 'ctice programming in python practicing')"
      ]
     },
     "execution_count": 1,
     "metadata": {},
     "output_type": "execute_result"
    }
   ],
   "source": [
    "ss=\"this is my python practice programming in python practicing\"\n",
    "ss.partition('pra')\n",
    "#ss.split(\"pra\")"
   ]
  },
  {
   "cell_type": "code",
   "execution_count": 339,
   "id": "f628e14e",
   "metadata": {},
   "outputs": [
    {
     "data": {
      "text/plain": [
       "('this is my python practice programming in python prac', 'tic', 'ing')"
      ]
     },
     "execution_count": 339,
     "metadata": {},
     "output_type": "execute_result"
    }
   ],
   "source": [
    "ss.rfind(\"python\",0,len(ss))\n",
    "ss.rjust(50,\"&\")\n",
    "ss=\"this is my python practice programming in python practicing\"\n",
    "ss.rpartition(\"tic\")"
   ]
  },
  {
   "cell_type": "code",
   "execution_count": 32,
   "id": "36e728d4",
   "metadata": {},
   "outputs": [
    {
     "data": {
      "text/plain": [
       "['this', 'is', 'my', 'python practice programming in python practicing']"
      ]
     },
     "execution_count": 32,
     "metadata": {},
     "output_type": "execute_result"
    }
   ],
   "source": [
    "ss.split(\" \", maxsplit=3)"
   ]
  },
  {
   "cell_type": "code",
   "execution_count": 27,
   "id": "a7d3bb3d",
   "metadata": {},
   "outputs": [
    {
     "data": {
      "text/plain": [
       "{'flowers': {'rose': 1, 'jasmine': 2, 'lily': 3},\n",
       " 'fruits': {'mango': 1, 'banana': 2, 'apple': 3}}"
      ]
     },
     "execution_count": 27,
     "metadata": {},
     "output_type": "execute_result"
    }
   ],
   "source": [
    "dict1={\"flowers\":{\"rose\":1, \"jasmine\":2, \"lily\":3},\n",
    "        \"fruits\":{\"mango\":1, \"banana\":2, \"apple\":3}\n",
    "                 }\n",
    "type(dict1)\n",
    "dict1 "
   ]
  },
  {
   "cell_type": "code",
   "execution_count": 28,
   "id": "94407e35",
   "metadata": {},
   "outputs": [
    {
     "data": {
      "text/plain": [
       "{'mango': 1, 'banana': 2, 'apple': 3}"
      ]
     },
     "execution_count": 28,
     "metadata": {},
     "output_type": "execute_result"
    }
   ],
   "source": [
    "dict1 [\"fruits\"]"
   ]
  },
  {
   "cell_type": "code",
   "execution_count": 30,
   "id": "60380db1",
   "metadata": {},
   "outputs": [
    {
     "data": {
      "text/plain": [
       "1"
      ]
     },
     "execution_count": 30,
     "metadata": {},
     "output_type": "execute_result"
    }
   ],
   "source": [
    "dict1[\"fruits\"][\"mango\"]"
   ]
  },
  {
   "cell_type": "code",
   "execution_count": 37,
   "id": "bbe40992",
   "metadata": {},
   "outputs": [
    {
     "ename": "AttributeError",
     "evalue": "'dict_keys' object has no attribute 'count'",
     "output_type": "error",
     "traceback": [
      "\u001b[1;31m---------------------------------------------------------------------------\u001b[0m",
      "\u001b[1;31mAttributeError\u001b[0m                            Traceback (most recent call last)",
      "Input \u001b[1;32mIn [37]\u001b[0m, in \u001b[0;36m<cell line: 1>\u001b[1;34m()\u001b[0m\n\u001b[1;32m----> 1\u001b[0m \u001b[43mdict1\u001b[49m\u001b[38;5;241;43m.\u001b[39;49m\u001b[43mkeys\u001b[49m\u001b[43m(\u001b[49m\u001b[43m)\u001b[49m\u001b[38;5;241;43m.\u001b[39;49m\u001b[43mcount\u001b[49m()\n\u001b[0;32m      2\u001b[0m dict1\u001b[38;5;241m.\u001b[39mitems()\n",
      "\u001b[1;31mAttributeError\u001b[0m: 'dict_keys' object has no attribute 'count'"
     ]
    }
   ],
   "source": [
    "dict1.keys()\n",
    "dict1.items()\n"
   ]
  },
  {
   "cell_type": "code",
   "execution_count": 12,
   "id": "887eb87e",
   "metadata": {},
   "outputs": [
    {
     "ename": "NameError",
     "evalue": "name 'flowers' is not defined",
     "output_type": "error",
     "traceback": [
      "\u001b[1;31m---------------------------------------------------------------------------\u001b[0m",
      "\u001b[1;31mNameError\u001b[0m                                 Traceback (most recent call last)",
      "Input \u001b[1;32mIn [12]\u001b[0m, in \u001b[0;36m<cell line: 1>\u001b[1;34m()\u001b[0m\n\u001b[1;32m----> 1\u001b[0m \u001b[43mflowers\u001b[49m\u001b[38;5;241m.\u001b[39mkeys()\n",
      "\u001b[1;31mNameError\u001b[0m: name 'flowers' is not defined"
     ]
    }
   ],
   "source": [
    "flowers.keys()"
   ]
  },
  {
   "cell_type": "code",
   "execution_count": 36,
   "id": "8d5b5cdc",
   "metadata": {},
   "outputs": [
    {
     "data": {
      "text/plain": [
       "'this is my python practice programming%%%%%%%%%%%%'"
      ]
     },
     "execution_count": 36,
     "metadata": {},
     "output_type": "execute_result"
    }
   ],
   "source": [
    "ss=\"this is my python practice programming\"\n",
    "ss.ljust(50,\"%\")"
   ]
  },
  {
   "cell_type": "code",
   "execution_count": 40,
   "id": "d711cf42",
   "metadata": {},
   "outputs": [
    {
     "data": {
      "text/plain": [
       "'This Is My Python Practice Programming'"
      ]
     },
     "execution_count": 40,
     "metadata": {},
     "output_type": "execute_result"
    }
   ],
   "source": [
    "import string\n",
    "string.capwords(ss)\n"
   ]
  },
  {
   "cell_type": "code",
   "execution_count": 1,
   "id": "fa6f900a",
   "metadata": {},
   "outputs": [
    {
     "name": "stdout",
     "output_type": "stream",
     "text": [
      "{1, 2, 3, 5, 6, 7}\n"
     ]
    }
   ],
   "source": [
    "list2=[1,2,3,5,5,6,6,7]\n",
    "list3=set(list2)\n",
    "print(list3)"
   ]
  },
  {
   "cell_type": "code",
   "execution_count": 2,
   "id": "cfd53b49",
   "metadata": {},
   "outputs": [
    {
     "ename": "TypeError",
     "evalue": "'set' object is not subscriptable",
     "output_type": "error",
     "traceback": [
      "\u001b[1;31m---------------------------------------------------------------------------\u001b[0m",
      "\u001b[1;31mTypeError\u001b[0m                                 Traceback (most recent call last)",
      "Input \u001b[1;32mIn [2]\u001b[0m, in \u001b[0;36m<cell line: 2>\u001b[1;34m()\u001b[0m\n\u001b[0;32m      1\u001b[0m set1\u001b[38;5;241m=\u001b[39m{\u001b[38;5;241m1\u001b[39m,\u001b[38;5;241m2\u001b[39m,\u001b[38;5;241m3\u001b[39m,\u001b[38;5;241m4\u001b[39m,\u001b[38;5;241m5\u001b[39m}\n\u001b[1;32m----> 2\u001b[0m \u001b[43mset1\u001b[49m\u001b[43m[\u001b[49m\u001b[38;5;241;43m0\u001b[39;49m\u001b[43m]\u001b[49m\n",
      "\u001b[1;31mTypeError\u001b[0m: 'set' object is not subscriptable"
     ]
    }
   ],
   "source": [
    "set1={1,2,3,4,5}\n",
    "set1[0]"
   ]
  },
  {
   "cell_type": "code",
   "execution_count": 27,
   "id": "cc3ba42a",
   "metadata": {},
   "outputs": [
    {
     "name": "stdout",
     "output_type": "stream",
     "text": [
      "\n",
      "\n",
      "[0]\n",
      "\n",
      "\n",
      "[0]\n",
      "[1]\n",
      "\n",
      "\n",
      "[0]\n",
      "[1]\n",
      "[2]\n",
      "\n",
      "\n",
      "[0]\n",
      "[1]\n",
      "[2]\n",
      "[3]\n",
      "\n",
      "\n",
      "[0]\n",
      "[1]\n",
      "[2]\n",
      "[3]\n",
      "[4]\n",
      "\n",
      "\n"
     ]
    }
   ],
   "source": [
    "for n in range(6):\n",
    "    for i in range(0,n):\n",
    "        ft=[]\n",
    "        ft.append(i)\n",
    "        print(ft)\n",
    "    print(\"\\n\")\n",
    "    n+=n"
   ]
  },
  {
   "cell_type": "code",
   "execution_count": 27,
   "id": "421d39ca",
   "metadata": {},
   "outputs": [
    {
     "name": "stdout",
     "output_type": "stream",
     "text": [
      "3\n"
     ]
    },
    {
     "ename": "NameError",
     "evalue": "name 'TestCase' is not defined",
     "output_type": "error",
     "traceback": [
      "\u001b[1;31m---------------------------------------------------------------------------\u001b[0m",
      "\u001b[1;31mNameError\u001b[0m                                 Traceback (most recent call last)",
      "Input \u001b[1;32mIn [27]\u001b[0m, in \u001b[0;36m<cell line: 4>\u001b[1;34m()\u001b[0m\n\u001b[0;32m      1\u001b[0m \u001b[38;5;28;01mimport\u001b[39;00m \u001b[38;5;21;01munittest\u001b[39;00m\n\u001b[0;32m      2\u001b[0m \u001b[38;5;28;01mimport\u001b[39;00m \u001b[38;5;21;01mcalc\u001b[39;00m\n\u001b[1;32m----> 4\u001b[0m \u001b[38;5;28;01mclass\u001b[39;00m \u001b[38;5;21;01mTestCalc\u001b[39;00m(unittest\u001b[38;5;241m.\u001b[39mTestCase):\n\u001b[0;32m      7\u001b[0m         result \u001b[38;5;241m=\u001b[39m \u001b[38;5;241m3\u001b[39m\n\u001b[0;32m      8\u001b[0m         \u001b[38;5;28mprint\u001b[39m(result)\n",
      "Input \u001b[1;32mIn [27]\u001b[0m, in \u001b[0;36mTestCalc\u001b[1;34m()\u001b[0m\n\u001b[0;32m      7\u001b[0m result \u001b[38;5;241m=\u001b[39m \u001b[38;5;241m3\u001b[39m\n\u001b[0;32m      8\u001b[0m \u001b[38;5;28mprint\u001b[39m(result)\n\u001b[1;32m----> 9\u001b[0m \u001b[43mTestCase\u001b[49m\u001b[38;5;241m.\u001b[39massertEqual(result, \u001b[38;5;241m3\u001b[39m)\n",
      "\u001b[1;31mNameError\u001b[0m: name 'TestCase' is not defined"
     ]
    }
   ],
   "source": [
    "\n",
    "import unittest\n",
    "import calc\n",
    "\n",
    "class TestCalc(unittest.TestCase):\n",
    "    \n",
    "        \n",
    "      \n",
    "        \n",
    "\n"
   ]
  },
  {
   "cell_type": "code",
   "execution_count": null,
   "id": "daa2fb99",
   "metadata": {},
   "outputs": [],
   "source": []
  },
  {
   "cell_type": "code",
   "execution_count": null,
   "id": "8bdf1e32",
   "metadata": {},
   "outputs": [],
   "source": []
  },
  {
   "cell_type": "code",
   "execution_count": null,
   "id": "be62158b",
   "metadata": {},
   "outputs": [],
   "source": []
  }
 ],
 "metadata": {
  "kernelspec": {
   "display_name": "Python 3 (ipykernel)",
   "language": "python",
   "name": "python3"
  },
  "language_info": {
   "codemirror_mode": {
    "name": "ipython",
    "version": 3
   },
   "file_extension": ".py",
   "mimetype": "text/x-python",
   "name": "python",
   "nbconvert_exporter": "python",
   "pygments_lexer": "ipython3",
   "version": "3.9.12"
  }
 },
 "nbformat": 4,
 "nbformat_minor": 5
}
