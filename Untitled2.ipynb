{
 "cells": [
  {
   "cell_type": "code",
   "execution_count": 19,
   "id": "289807c0",
   "metadata": {},
   "outputs": [
    {
     "name": "stdout",
     "output_type": "stream",
     "text": [
      "enter first:5\n",
      "enter second:3\n",
      "enter first:4\n",
      "enter second:6\n",
      "the complex number a = 5+i3\n",
      "the complex number b = 4+i6\n"
     ]
    }
   ],
   "source": [
    "\n",
    "class simp:\n",
    "   \n",
    "    def comp1(self,first=input(\"enter first:\"),second=input(\"enter second:\")):\n",
    "        self.first=first\n",
    "        self.second=second\n",
    "        print(\"the complex number a = {}+i{}\".format(self.first,self.second))\n",
    "   \n",
    "    def comp2(self1,third=input(\"enter first:\"),fourth=input(\"enter second:\")):\n",
    "        self1.third=third\n",
    "        self1.fourth=fourth\n",
    "        print(\"the complex number b = {}+i{}\".format(self1.third,self1.fourth))\n",
    "    \n",
    "    def _add_():\n",
    "       # x=0\n",
    "       # y=0\n",
    "       # x=self.first+self1.third\n",
    "       # y=self.second+self1.fourth\n",
    "        #print(\"The complex number a+b =c= {} + i {}\".format(x,y))\n",
    "        return \"The complex number a+b =c= {} + i {}\".format(x,y)\n",
    "\n",
    "coun=simp()\n",
    "coun.comp1()\n",
    "coun.comp2()\n"
   ]
  },
  {
   "cell_type": "code",
   "execution_count": 20,
   "id": "8d3d901e",
   "metadata": {},
   "outputs": [
    {
     "name": "stdout",
     "output_type": "stream",
     "text": [
      "enter first:5\n",
      "enter second:3\n"
     ]
    }
   ],
   "source": [
    "class samp:\n",
    "    def _init_(self, first=input(\"enter first:\"),second=input(\"enter second:\")):\n",
    "        a=first\n",
    "        b=second \n",
    "        print(\"The first complex number is:\", self.complex(a+'i'+self.b))"
   ]
  },
  {
   "cell_type": "code",
   "execution_count": 44,
   "id": "00c62239",
   "metadata": {},
   "outputs": [
    {
     "name": "stdout",
     "output_type": "stream",
     "text": [
      "the real num in the first complex number is: 5.0\n",
      "the imag num in the first complex number is: 3.0\n",
      "the first complex number is: (5+3j)\n",
      "\n",
      "\n",
      "the real num in the second complex number is: 4.0\n",
      "the imag num in the second complex number is: 6.0\n",
      "the second complex number is: (4+6j)\n",
      "\n",
      "\n",
      "the sum of two complex numbers is: (9+9j)\n"
     ]
    }
   ],
   "source": [
    "\n",
    "a=complex(5,3)\n",
    "print(\"the real num in the first complex number is:\", a.real)\n",
    "print(\"the imag num in the first complex number is:\", a.imag)\n",
    "print(\"the first complex number is:\", a)\n",
    "print(\"\\n\")\n",
    "b=complex(4,6)\n",
    "print(\"the real num in the second complex number is:\", b.real)\n",
    "print(\"the imag num in the second complex number is:\", b.imag)\n",
    "print(\"the second complex number is:\", b)\n",
    "print(\"\\n\")\n",
    "print(\"the sum of two complex numbers is:\",a+b)\n",
    "\n",
    "\n"
   ]
  },
  {
   "cell_type": "code",
   "execution_count": null,
   "id": "5c4e1c6f",
   "metadata": {},
   "outputs": [],
   "source": []
  }
 ],
 "metadata": {
  "kernelspec": {
   "display_name": "Python 3 (ipykernel)",
   "language": "python",
   "name": "python3"
  },
  "language_info": {
   "codemirror_mode": {
    "name": "ipython",
    "version": 3
   },
   "file_extension": ".py",
   "mimetype": "text/x-python",
   "name": "python",
   "nbconvert_exporter": "python",
   "pygments_lexer": "ipython3",
   "version": "3.9.12"
  }
 },
 "nbformat": 4,
 "nbformat_minor": 5
}
