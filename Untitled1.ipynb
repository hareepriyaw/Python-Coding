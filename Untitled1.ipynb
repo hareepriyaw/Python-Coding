{
 "cells": [
  {
   "cell_type": "code",
   "execution_count": 11,
   "id": "f9b312fa",
   "metadata": {},
   "outputs": [
    {
     "name": "stdout",
     "output_type": "stream",
     "text": [
      "the addition of 2 and 4 is: 6\n"
     ]
    }
   ],
   "source": [
    "class addit:\n",
    "    a=0\n",
    "    b=0\n",
    "    def initial_nums(self,x,y):\n",
    "        self.a=x\n",
    "        self.b=y\n",
    "    def display_nums(self):\n",
    "        print(\"the addition of {} and {} is:\".format(self.a, self.b), (self.a+self.b) )\n",
    "ans=addit()\n",
    "ans.initial_nums(2,4)\n",
    "ans.display_nums()"
   ]
  },
  {
   "cell_type": "code",
   "execution_count": 37,
   "id": "d8b693e1",
   "metadata": {},
   "outputs": [],
   "source": [
    "class writing:\n",
    "    sub1=\"health\"\n",
    "    sub2=\"finance\"\n",
    "    sub3=\"politics\"\n",
    "    def content_writing(self,s1,s2,s3):\n",
    "        self.s1=s1\n",
    "        self.s2=s2\n",
    "        self.s3=s3\n",
    "    def process_writing(self):\n",
    "        \n",
    "            if self.s1==\"health\":\n",
    "                print(\"this is {} writing Resume\".format(self.s1))\n",
    "                \n",
    "            if self.s2==\"finance\":\n",
    "                print(\"this is {} writing Resume\".format(self.s2))\n",
    "                \n",
    "            if self.s3==\"politics\":\n",
    "                print(\"this is {} writing Resume\".format(self.s3))\n",
    "                \n",
    "            else:\n",
    "                print(\"this Resume is not required...\")\n",
    "                \n",
    "                \n",
    "   "
   ]
  },
  {
   "cell_type": "code",
   "execution_count": 39,
   "id": "2f0f6775",
   "metadata": {},
   "outputs": [
    {
     "name": "stdout",
     "output_type": "stream",
     "text": [
      "this is health writing Resume\n",
      "this is finance writing Resume\n",
      "this Resume is not required...\n"
     ]
    }
   ],
   "source": [
    "subject1=writing()\n",
    "\n",
    "subject1.content_writing(\"health\",\"finance\",\"insurance\")\n",
    "subject1.process_writing()"
   ]
  },
  {
   "cell_type": "code",
   "execution_count": 1,
   "id": "56498ff2",
   "metadata": {},
   "outputs": [
    {
     "name": "stdout",
     "output_type": "stream",
     "text": [
      "enter the name:hari\n",
      "hari\n"
     ]
    }
   ],
   "source": [
    "class _name_():\n",
    "    st=input(\"enter the name:\")\n",
    "    print(st)"
   ]
  },
  {
   "cell_type": "code",
   "execution_count": 20,
   "id": "007a590c",
   "metadata": {},
   "outputs": [],
   "source": [
    "class _init_():\n",
    "    def priya():\n",
    "        for x in range[2,4,6,8,10]:\n",
    "           # if x==11:\n",
    "           #     break\n",
    "          #  else:\n",
    "            print(\"the number is:{x}\")\n",
    "            continue\n",
    "\n"
   ]
  },
  {
   "cell_type": "code",
   "execution_count": 1,
   "id": "03fa7acf",
   "metadata": {},
   "outputs": [
    {
     "name": "stdout",
     "output_type": "stream",
     "text": [
      "['Alan', 'James', 'Kavitha', 'padmaja', 'xavier']\n"
     ]
    }
   ],
   "source": [
    "names=[\"Alan\",\"James\",\"Kavitha\",\"xavier\",\"padmaja\"]\n",
    "names.sort()\n",
    "print(names)"
   ]
  },
  {
   "cell_type": "code",
   "execution_count": 12,
   "id": "69679347",
   "metadata": {},
   "outputs": [
    {
     "name": "stdout",
     "output_type": "stream",
     "text": [
      "5\n"
     ]
    }
   ],
   "source": [
    "res=0\n",
    "names=[\"Alan\",\"James\",\"Kavitha\",\"xavier\",\"padmaja\"]\n",
    "res=lambda names:len(names)\n",
    "print(res(names))"
   ]
  },
  {
   "cell_type": "code",
   "execution_count": 10,
   "id": "02fcedf3",
   "metadata": {},
   "outputs": [
    {
     "name": "stdout",
     "output_type": "stream",
     "text": [
      "6\n"
     ]
    }
   ],
   "source": [
    "a=lambda x:x*2\n",
    "print(a(3))"
   ]
  },
  {
   "cell_type": "code",
   "execution_count": 15,
   "id": "b83bc526",
   "metadata": {},
   "outputs": [
    {
     "name": "stdout",
     "output_type": "stream",
     "text": [
      "[1, 2, 3, 4, 5, 'hari', 'balu']\n"
     ]
    }
   ],
   "source": [
    "lis=[1,2,3,4,5]\n",
    "lis1=[\"hari\",\"balu\"]\n",
    "lis2=lis+lis1\n",
    "print(lis2)\n"
   ]
  },
  {
   "cell_type": "code",
   "execution_count": 16,
   "id": "b826e90b",
   "metadata": {},
   "outputs": [
    {
     "name": "stdout",
     "output_type": "stream",
     "text": [
      "[1, 2, 3, 4, 5, 'hari', 'balu']\n"
     ]
    }
   ],
   "source": [
    "lis=[1,2,3,4,5]\n",
    "lis1=[\"hari\",\"balu\"]\n",
    "for i in lis1:\n",
    "    lis.append(i)\n",
    "print(lis)"
   ]
  },
  {
   "cell_type": "code",
   "execution_count": null,
   "id": "2ecceb96",
   "metadata": {},
   "outputs": [],
   "source": []
  }
 ],
 "metadata": {
  "kernelspec": {
   "display_name": "Python 3 (ipykernel)",
   "language": "python",
   "name": "python3"
  },
  "language_info": {
   "codemirror_mode": {
    "name": "ipython",
    "version": 3
   },
   "file_extension": ".py",
   "mimetype": "text/x-python",
   "name": "python",
   "nbconvert_exporter": "python",
   "pygments_lexer": "ipython3",
   "version": "3.9.12"
  }
 },
 "nbformat": 4,
 "nbformat_minor": 5
}
