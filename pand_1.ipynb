{
 "cells": [
  {
   "cell_type": "code",
   "execution_count": 25,
   "id": "41e44394",
   "metadata": {},
   "outputs": [
    {
     "data": {
      "text/html": [
       "<div>\n",
       "<style scoped>\n",
       "    .dataframe tbody tr th:only-of-type {\n",
       "        vertical-align: middle;\n",
       "    }\n",
       "\n",
       "    .dataframe tbody tr th {\n",
       "        vertical-align: top;\n",
       "    }\n",
       "\n",
       "    .dataframe thead th {\n",
       "        text-align: right;\n",
       "    }\n",
       "</style>\n",
       "<table border=\"1\" class=\"dataframe\">\n",
       "  <thead>\n",
       "    <tr style=\"text-align: right;\">\n",
       "      <th></th>\n",
       "      <th>email</th>\n",
       "      <th>first</th>\n",
       "      <th>last</th>\n",
       "    </tr>\n",
       "  </thead>\n",
       "  <tbody>\n",
       "    <tr>\n",
       "      <th>0</th>\n",
       "      <td>balaji.abhi@gmail.com</td>\n",
       "      <td>balaji</td>\n",
       "      <td>kisunuru</td>\n",
       "    </tr>\n",
       "    <tr>\n",
       "      <th>1</th>\n",
       "      <td>haripriya.munipalli@gmail.com</td>\n",
       "      <td>haripriya</td>\n",
       "      <td>munipalli</td>\n",
       "    </tr>\n",
       "  </tbody>\n",
       "</table>\n",
       "</div>"
      ],
      "text/plain": [
       "                           email      first       last\n",
       "0          balaji.abhi@gmail.com     balaji   kisunuru\n",
       "1  haripriya.munipalli@gmail.com  haripriya  munipalli"
      ]
     },
     "execution_count": 25,
     "metadata": {},
     "output_type": "execute_result"
    }
   ],
   "source": [
    "import pandas as pd\n",
    "people={\"email\":[\"balaji.abhi@gmail.com\",\"haripriya.munipalli@gmail.com\"], \"first\":[\"balaji\",\"haripriya\"], \"last\":[\"kisunuru\",\"munipalli\"]}\n",
    "\n",
    "person={\"one\":\"first\",\"two\":\"second\",\"three\":\"third\"}\n",
    "\n",
    "#df=pd.read_csv(\"g:/sql/survey_results_public.csv\")\n",
    "#pd.set_option('display.max_columns',79)\n",
    "\n",
    "df1=pd.DataFrame(people)\n",
    "df1\n",
    "#people.update(person)\n",
    "#people\n"
   ]
  },
  {
   "cell_type": "code",
   "execution_count": 16,
   "id": "2927a487",
   "metadata": {},
   "outputs": [
    {
     "data": {
      "text/plain": [
       "Index(['balaji.abhi@gmail.com', 'haripriya.munipalli@gmail.com'], dtype='object', name='email')"
      ]
     },
     "execution_count": 16,
     "metadata": {},
     "output_type": "execute_result"
    }
   ],
   "source": [
    "df1=pd.DataFrame(people)\n",
    "df1.set_index('email',inplace=True)\n",
    "df1.index"
   ]
  },
  {
   "cell_type": "code",
   "execution_count": 38,
   "id": "bf43e0c5",
   "metadata": {},
   "outputs": [
    {
     "data": {
      "text/plain": [
       "email    2\n",
       "first    2\n",
       "last     2\n",
       "dtype: int64"
      ]
     },
     "execution_count": 38,
     "metadata": {},
     "output_type": "execute_result"
    }
   ],
   "source": [
    "df1.set_index('email')\n",
    "df1['email'][1]='jahnavi.abhi@gmail.com'\n",
    "df1.columns\n",
    "df1.apply(len)"
   ]
  },
  {
   "cell_type": "code",
   "execution_count": 39,
   "id": "4f506bed",
   "metadata": {},
   "outputs": [
    {
     "data": {
      "text/plain": [
       "0    6\n",
       "1    9\n",
       "Name: first, dtype: int64"
      ]
     },
     "execution_count": 39,
     "metadata": {},
     "output_type": "execute_result"
    }
   ],
   "source": [
    "df1['first'].apply(len)"
   ]
  },
  {
   "cell_type": "code",
   "execution_count": null,
   "id": "718f29d1",
   "metadata": {},
   "outputs": [],
   "source": []
  },
  {
   "cell_type": "code",
   "execution_count": 67,
   "id": "22db6bef",
   "metadata": {},
   "outputs": [
    {
     "name": "stdout",
     "output_type": "stream",
     "text": [
      "[1, 2, 4, 3, 4, 5, 6]\n"
     ]
    },
    {
     "data": {
      "text/plain": [
       "(1, 2, 4, 3, 4, 5, 6)"
      ]
     },
     "execution_count": 67,
     "metadata": {},
     "output_type": "execute_result"
    }
   ],
   "source": [
    "tup=1,2,4,\n",
    "tup1=3,4,5,6,\n",
    "tup2=tup+tup1\n",
    "tup3=list(tup2)\n",
    "\n",
    "print(tup3)\n",
    "tup4=tuple(tup3)\n",
    "tup4\n"
   ]
  },
  {
   "cell_type": "code",
   "execution_count": null,
   "id": "98847980",
   "metadata": {},
   "outputs": [],
   "source": []
  },
  {
   "cell_type": "code",
   "execution_count": 83,
   "id": "49651b56",
   "metadata": {},
   "outputs": [
    {
     "name": "stdout",
     "output_type": "stream",
     "text": [
      "      *\n",
      "     **\n",
      "    ***\n",
      "   ****\n",
      "  *****\n",
      " ******\n",
      "  *****\n",
      "   ****\n",
      "    ***\n",
      "     **\n",
      "      *\n"
     ]
    }
   ],
   "source": [
    "a='*'\n",
    "res=5\n",
    "i=6\n",
    "j=1\n",
    "while len(a)<=res:\n",
    "    print(\" \"*i+\"{}\".format(a))\n",
    "    a+='*'\n",
    "    i-=1\n",
    "while len(a)>0:\n",
    "    print(\" \"*j+\"{}\".format(a))\n",
    "    a=a[:-1]\n",
    "    j+=1"
   ]
  },
  {
   "cell_type": "code",
   "execution_count": 84,
   "id": "5e632fe9",
   "metadata": {},
   "outputs": [
    {
     "name": "stdout",
     "output_type": "stream",
     "text": [
      "     *     \n",
      "    ***    \n",
      "   *****   \n",
      "  *******  \n",
      " ********* \n",
      "***********\n",
      " ********* \n",
      "  *******  \n",
      "   *****   \n",
      "    ***    \n",
      "     *     \n"
     ]
    }
   ],
   "source": [
    "b='*'\n",
    "maxm=6\n",
    "i=5\n",
    "j=1\n",
    "c=''\n",
    "while len(b)<maxm:\n",
    "    print(\" \"*i+\"{}\".format(b)+\"{}\".format(c)+\" \"*i)\n",
    "    i-=1\n",
    "    b+=\"*\"\n",
    "    c+=\"*\"\n",
    "while len(b)>0:\n",
    "    print(\" \"*i+\"{}\".format(b)+\"{}\".format(c)+\" \"*i)\n",
    "    i+=1\n",
    "    b=b[:-1]\n",
    "    c=c[:-1]"
   ]
  },
  {
   "cell_type": "code",
   "execution_count": 85,
   "id": "be90f9fa",
   "metadata": {},
   "outputs": [
    {
     "data": {
      "text/plain": [
       "50"
      ]
     },
     "execution_count": 85,
     "metadata": {},
     "output_type": "execute_result"
    }
   ],
   "source": [
    "2 * 10 + (20 ** 2 // 10 - 10)"
   ]
  },
  {
   "cell_type": "code",
   "execution_count": 88,
   "id": "85fa1992",
   "metadata": {},
   "outputs": [
    {
     "data": {
      "text/plain": [
       "30"
      ]
     },
     "execution_count": 88,
     "metadata": {},
     "output_type": "execute_result"
    }
   ],
   "source": [
    "(20 ** 2 // 10 - 10)"
   ]
  },
  {
   "cell_type": "code",
   "execution_count": 87,
   "id": "02c2e4d9",
   "metadata": {},
   "outputs": [
    {
     "data": {
      "text/plain": [
       "1"
      ]
     },
     "execution_count": 87,
     "metadata": {},
     "output_type": "execute_result"
    }
   ],
   "source": [
    "20**0"
   ]
  },
  {
   "cell_type": "code",
   "execution_count": 2,
   "id": "2d195ef8",
   "metadata": {},
   "outputs": [
    {
     "data": {
      "text/plain": [
       "True"
      ]
     },
     "execution_count": 2,
     "metadata": {},
     "output_type": "execute_result"
    }
   ],
   "source": [
    " \"michigan\" < \"oxford\" < \"stanford\"\n"
   ]
  },
  {
   "cell_type": "code",
   "execution_count": 46,
   "id": "52f36ea0",
   "metadata": {},
   "outputs": [
    {
     "data": {
      "text/plain": [
       "<bound method DataFrame.count of                         HP  Attack  Defense  Generation\n",
       "Name                                                   \n",
       "Bulbasaur               45      49       49           1\n",
       "Ivysaur                 60      62       63           1\n",
       "Venusaur                80      82       83           1\n",
       "VenusaurMega Venusaur   80     100      123           1\n",
       "Charmander              39      52       43           1\n",
       "...                    ...     ...      ...         ...\n",
       "Dragonite               91     134       95           1\n",
       "Mewtwo                 106     110       90           1\n",
       "MewtwoMega Mewtwo X    106     190      100           1\n",
       "MewtwoMega Mewtwo Y    106     150       70           1\n",
       "Mew                    100     100      100           1\n",
       "\n",
       "[166 rows x 4 columns]>"
      ]
     },
     "execution_count": 46,
     "metadata": {},
     "output_type": "execute_result"
    }
   ],
   "source": [
    "import pandas as pd\n",
    "data=pd.read_csv(\"pokemon.csv\", index_col='Name')\n",
    "\n",
    "pd.set_option('display.max_rows',80)\n",
    "#fil=(data['Defense']==83) | (data['Speed']>70)\n",
    "#fil=data.index.str.contains('saur')\n",
    "#fil=data['Speed']>100\n",
    "#data[fil].head()\n",
    "fil=data['Generation']==1\n",
    "data.loc[fil,['HP','Attack','Defense','Generation']].count\n"
   ]
  },
  {
   "cell_type": "code",
   "execution_count": 63,
   "id": "0cf51b07",
   "metadata": {},
   "outputs": [
    {
     "data": {
      "text/plain": [
       "Name\n",
       "Bulbasaur                Grass\n",
       "Ivysaur                  Grass\n",
       "Venusaur                 Grass\n",
       "VenusaurMega Venusaur    Grass\n",
       "Charmander                Fire\n",
       "                         ...  \n",
       "Aurorus                   Rock\n",
       "Carbink                   Rock\n",
       "Diancie                   Rock\n",
       "DiancieMega Diancie       Rock\n",
       "Volcanion                 Fire\n",
       "Name: Type_1, Length: 166, dtype: object"
      ]
     },
     "execution_count": 63,
     "metadata": {},
     "output_type": "execute_result"
    }
   ],
   "source": [
    "lis=['Grass','Rock','Fire']\n",
    "filt1=data['Type_1'].isin(lis)\n",
    "data.loc[filt1,'Type_1']\n"
   ]
  },
  {
   "cell_type": "code",
   "execution_count": 62,
   "id": "8c752f26",
   "metadata": {},
   "outputs": [],
   "source": [
    "data.columns=data.columns.str.replace(' ','_')"
   ]
  },
  {
   "cell_type": "code",
   "execution_count": 68,
   "id": "f82f306b",
   "metadata": {},
   "outputs": [],
   "source": [
    "data.columns=(x.upper() for x in data.columns)\n",
    "             "
   ]
  },
  {
   "cell_type": "code",
   "execution_count": 76,
   "id": "fcf169dc",
   "metadata": {},
   "outputs": [
    {
     "data": {
      "text/html": [
       "<div>\n",
       "<style scoped>\n",
       "    .dataframe tbody tr th:only-of-type {\n",
       "        vertical-align: middle;\n",
       "    }\n",
       "\n",
       "    .dataframe tbody tr th {\n",
       "        vertical-align: top;\n",
       "    }\n",
       "\n",
       "    .dataframe thead th {\n",
       "        text-align: right;\n",
       "    }\n",
       "</style>\n",
       "<table border=\"1\" class=\"dataframe\">\n",
       "  <thead>\n",
       "    <tr style=\"text-align: right;\">\n",
       "      <th></th>\n",
       "      <th>#</th>\n",
       "      <th>Type_1</th>\n",
       "      <th>Type_2</th>\n",
       "      <th>TOTAL</th>\n",
       "      <th>HP</th>\n",
       "      <th>ATTACK</th>\n",
       "      <th>DEFENSE</th>\n",
       "      <th>SP._ATK</th>\n",
       "      <th>SP._DEF</th>\n",
       "      <th>SPEED</th>\n",
       "      <th>GENERATION</th>\n",
       "      <th>LEGENDARY</th>\n",
       "    </tr>\n",
       "    <tr>\n",
       "      <th>Name</th>\n",
       "      <th></th>\n",
       "      <th></th>\n",
       "      <th></th>\n",
       "      <th></th>\n",
       "      <th></th>\n",
       "      <th></th>\n",
       "      <th></th>\n",
       "      <th></th>\n",
       "      <th></th>\n",
       "      <th></th>\n",
       "      <th></th>\n",
       "      <th></th>\n",
       "    </tr>\n",
       "  </thead>\n",
       "  <tbody>\n",
       "    <tr>\n",
       "      <th>Bulbasaur</th>\n",
       "      <td>1</td>\n",
       "      <td>Grass</td>\n",
       "      <td>Poison</td>\n",
       "      <td>318</td>\n",
       "      <td>45</td>\n",
       "      <td>49</td>\n",
       "      <td>49</td>\n",
       "      <td>65</td>\n",
       "      <td>65</td>\n",
       "      <td>45</td>\n",
       "      <td>1</td>\n",
       "      <td>False</td>\n",
       "    </tr>\n",
       "    <tr>\n",
       "      <th>Ivysaur</th>\n",
       "      <td>ivysaur</td>\n",
       "      <td>ivysaur</td>\n",
       "      <td>ivysaur</td>\n",
       "      <td>ivysaur</td>\n",
       "      <td>ivysaur</td>\n",
       "      <td>50</td>\n",
       "      <td>ivysaur</td>\n",
       "      <td>ivysaur</td>\n",
       "      <td>ivysaur</td>\n",
       "      <td>45</td>\n",
       "      <td>ivysaur</td>\n",
       "      <td>ivysaur</td>\n",
       "    </tr>\n",
       "    <tr>\n",
       "      <th>Venusaur</th>\n",
       "      <td>3</td>\n",
       "      <td>Grass</td>\n",
       "      <td>Poison</td>\n",
       "      <td>525</td>\n",
       "      <td>80</td>\n",
       "      <td>82</td>\n",
       "      <td>83</td>\n",
       "      <td>100</td>\n",
       "      <td>100</td>\n",
       "      <td>80</td>\n",
       "      <td>1</td>\n",
       "      <td>False</td>\n",
       "    </tr>\n",
       "    <tr>\n",
       "      <th>VenusaurMega Venusaur</th>\n",
       "      <td>3</td>\n",
       "      <td>Grass</td>\n",
       "      <td>Poison</td>\n",
       "      <td>625</td>\n",
       "      <td>80</td>\n",
       "      <td>100</td>\n",
       "      <td>123</td>\n",
       "      <td>122</td>\n",
       "      <td>120</td>\n",
       "      <td>80</td>\n",
       "      <td>1</td>\n",
       "      <td>False</td>\n",
       "    </tr>\n",
       "    <tr>\n",
       "      <th>Charmander</th>\n",
       "      <td>4</td>\n",
       "      <td>Fire</td>\n",
       "      <td>NaN</td>\n",
       "      <td>309</td>\n",
       "      <td>39</td>\n",
       "      <td>52</td>\n",
       "      <td>43</td>\n",
       "      <td>60</td>\n",
       "      <td>50</td>\n",
       "      <td>65</td>\n",
       "      <td>1</td>\n",
       "      <td>False</td>\n",
       "    </tr>\n",
       "    <tr>\n",
       "      <th>...</th>\n",
       "      <td>...</td>\n",
       "      <td>...</td>\n",
       "      <td>...</td>\n",
       "      <td>...</td>\n",
       "      <td>...</td>\n",
       "      <td>...</td>\n",
       "      <td>...</td>\n",
       "      <td>...</td>\n",
       "      <td>...</td>\n",
       "      <td>...</td>\n",
       "      <td>...</td>\n",
       "      <td>...</td>\n",
       "    </tr>\n",
       "    <tr>\n",
       "      <th>Diancie</th>\n",
       "      <td>719</td>\n",
       "      <td>Rock</td>\n",
       "      <td>Fairy</td>\n",
       "      <td>600</td>\n",
       "      <td>50</td>\n",
       "      <td>100</td>\n",
       "      <td>150</td>\n",
       "      <td>100</td>\n",
       "      <td>150</td>\n",
       "      <td>50</td>\n",
       "      <td>6</td>\n",
       "      <td>True</td>\n",
       "    </tr>\n",
       "    <tr>\n",
       "      <th>DiancieMega Diancie</th>\n",
       "      <td>719</td>\n",
       "      <td>Rock</td>\n",
       "      <td>Fairy</td>\n",
       "      <td>700</td>\n",
       "      <td>50</td>\n",
       "      <td>160</td>\n",
       "      <td>110</td>\n",
       "      <td>160</td>\n",
       "      <td>110</td>\n",
       "      <td>110</td>\n",
       "      <td>6</td>\n",
       "      <td>True</td>\n",
       "    </tr>\n",
       "    <tr>\n",
       "      <th>HoopaHoopa Confined</th>\n",
       "      <td>720</td>\n",
       "      <td>Psychic</td>\n",
       "      <td>Ghost</td>\n",
       "      <td>600</td>\n",
       "      <td>80</td>\n",
       "      <td>110</td>\n",
       "      <td>60</td>\n",
       "      <td>150</td>\n",
       "      <td>130</td>\n",
       "      <td>70</td>\n",
       "      <td>6</td>\n",
       "      <td>True</td>\n",
       "    </tr>\n",
       "    <tr>\n",
       "      <th>HoopaHoopa Unbound</th>\n",
       "      <td>720</td>\n",
       "      <td>Psychic</td>\n",
       "      <td>Dark</td>\n",
       "      <td>680</td>\n",
       "      <td>80</td>\n",
       "      <td>160</td>\n",
       "      <td>60</td>\n",
       "      <td>170</td>\n",
       "      <td>130</td>\n",
       "      <td>80</td>\n",
       "      <td>6</td>\n",
       "      <td>True</td>\n",
       "    </tr>\n",
       "    <tr>\n",
       "      <th>Volcanion</th>\n",
       "      <td>721</td>\n",
       "      <td>Fire</td>\n",
       "      <td>Water</td>\n",
       "      <td>600</td>\n",
       "      <td>80</td>\n",
       "      <td>110</td>\n",
       "      <td>120</td>\n",
       "      <td>130</td>\n",
       "      <td>90</td>\n",
       "      <td>70</td>\n",
       "      <td>6</td>\n",
       "      <td>True</td>\n",
       "    </tr>\n",
       "  </tbody>\n",
       "</table>\n",
       "<p>800 rows × 12 columns</p>\n",
       "</div>"
      ],
      "text/plain": [
       "                             #   Type_1   Type_2    TOTAL       HP ATTACK  \\\n",
       "Name                                                                        \n",
       "Bulbasaur                    1    Grass   Poison      318       45     49   \n",
       "Ivysaur                ivysaur  ivysaur  ivysaur  ivysaur  ivysaur     50   \n",
       "Venusaur                     3    Grass   Poison      525       80     82   \n",
       "VenusaurMega Venusaur        3    Grass   Poison      625       80    100   \n",
       "Charmander                   4     Fire      NaN      309       39     52   \n",
       "...                        ...      ...      ...      ...      ...    ...   \n",
       "Diancie                    719     Rock    Fairy      600       50    100   \n",
       "DiancieMega Diancie        719     Rock    Fairy      700       50    160   \n",
       "HoopaHoopa Confined        720  Psychic    Ghost      600       80    110   \n",
       "HoopaHoopa Unbound         720  Psychic     Dark      680       80    160   \n",
       "Volcanion                  721     Fire    Water      600       80    110   \n",
       "\n",
       "                       DEFENSE  SP._ATK  SP._DEF SPEED GENERATION LEGENDARY  \n",
       "Name                                                                         \n",
       "Bulbasaur                   49       65       65    45          1     False  \n",
       "Ivysaur                ivysaur  ivysaur  ivysaur    45    ivysaur   ivysaur  \n",
       "Venusaur                    83      100      100    80          1     False  \n",
       "VenusaurMega Venusaur      123      122      120    80          1     False  \n",
       "Charmander                  43       60       50    65          1     False  \n",
       "...                        ...      ...      ...   ...        ...       ...  \n",
       "Diancie                    150      100      150    50          6      True  \n",
       "DiancieMega Diancie        110      160      110   110          6      True  \n",
       "HoopaHoopa Confined         60      150      130    70          6      True  \n",
       "HoopaHoopa Unbound          60      170      130    80          6      True  \n",
       "Volcanion                  120      130       90    70          6      True  \n",
       "\n",
       "[800 rows x 12 columns]"
      ]
     },
     "execution_count": 76,
     "metadata": {},
     "output_type": "execute_result"
    }
   ],
   "source": [
    "data.rename(columns={'TYPE_1':'Type_1', 'TYPE_2':'Type_2'}, inplace=True)\n",
    "data.loc['Ivysaur']='ivysaur'\n",
    "data.loc['Ivysaur', ['ATTACK','SPEED']]=[50,45]\n",
    "data\n"
   ]
  },
  {
   "cell_type": "code",
   "execution_count": null,
   "id": "40e2b1be",
   "metadata": {},
   "outputs": [],
   "source": []
  }
 ],
 "metadata": {
  "kernelspec": {
   "display_name": "Python 3 (ipykernel)",
   "language": "python",
   "name": "python3"
  },
  "language_info": {
   "codemirror_mode": {
    "name": "ipython",
    "version": 3
   },
   "file_extension": ".py",
   "mimetype": "text/x-python",
   "name": "python",
   "nbconvert_exporter": "python",
   "pygments_lexer": "ipython3",
   "version": "3.9.12"
  }
 },
 "nbformat": 4,
 "nbformat_minor": 5
}
